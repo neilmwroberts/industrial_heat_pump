{
 "cells": [
  {
   "cell_type": "code",
   "execution_count": 3,
   "metadata": {},
   "outputs": [],
   "source": [
    "from heat_pump_model import heat_pump\n",
    "from libraries import * \n",
    "from refrigerant_properties import *\n",
    "import numpy as np\n",
    "from utilities.unit_defs import Q_"
   ]
  },
  {
   "cell_type": "code",
   "execution_count": null,
   "metadata": {},
   "outputs": [],
   "source": []
  },
  {
   "cell_type": "code",
   "execution_count": 5,
   "metadata": {},
   "outputs": [
    {
     "name": "stdout",
     "output_type": "stream",
     "text": [
      "Calculate COP Called\n",
      "Average Theoretical COP:  9.20375 dimensionless\n",
      "Average Estimated COP:  4.601875 dimensionless\n",
      "Calculate Energy and Mass Called\n",
      "Hot Mass Flow Average: 99.0 kg/s\n",
      "Cold Average Outlet Temperature: 56.00 °C\n",
      "Average Power Draw of Heat Pump: 217.254 kW\n",
      "Maximum Power Draw of Heat Pump: 217.254 kW\n",
      "Annual Electricity in: 1,903,144.9 kWh\n",
      "Calculate Heat Pump Costs\n",
      "Capital Cost: 299,932.70 $\n",
      "Capacity Factor: 1.000\n",
      "One Year Fixed O&M Costs: 40.25 $·MMBtu/h/kW/yr\n",
      "One Year Variable O&M Costs: 1,494.18 $/yr\n",
      "One Year Energy Costs: 64,133.38 $/yr\n",
      "One Year Operating Costs: 264.18 $·MMBtu/h/kW/yr\n",
      "Lifetime LCOH: 3.09 $/MMBtu\n",
      "Calculate Natural Gas Comparison\n"
     ]
    },
    {
     "ename": "AttributeError",
     "evalue": "'heat_pump' object has no attribute 'existing_gas'",
     "output_type": "error",
     "traceback": [
      "\u001b[31m---------------------------------------------------------------------------\u001b[39m",
      "\u001b[31mAttributeError\u001b[39m                            Traceback (most recent call last)",
      "\u001b[36mCell\u001b[39m\u001b[36m \u001b[39m\u001b[32mIn[5]\u001b[39m\u001b[32m, line 11\u001b[39m\n\u001b[32m      8\u001b[39m hp_test.carnot_efficiency_factor_flag = \u001b[38;5;28;01mFalse\u001b[39;00m\n\u001b[32m      9\u001b[39m hp_test.refrigerant = \u001b[33m'\u001b[39m\u001b[33mR234a\u001b[39m\u001b[33m'\u001b[39m\n\u001b[32m---> \u001b[39m\u001b[32m11\u001b[39m \u001b[43mhp_test\u001b[49m\u001b[43m.\u001b[49m\u001b[43mrun_all\u001b[49m\u001b[43m(\u001b[49m\u001b[33;43m'\u001b[39;49m\u001b[33;43mtest\u001b[39;49m\u001b[33;43m'\u001b[39;49m\u001b[43m)\u001b[49m\n",
      "\u001b[36mFile \u001b[39m\u001b[32m~\\Documents\\heat_pump_model-main\\heat_pump_model-main\\non-component model\\heat_pump_model.py:436\u001b[39m, in \u001b[36mheat_pump.run_all\u001b[39m\u001b[34m(self, filename)\u001b[39m\n\u001b[32m    434\u001b[39m \u001b[38;5;28mself\u001b[39m.calculate_energy_and_mass_flow()\n\u001b[32m    435\u001b[39m \u001b[38;5;28mself\u001b[39m.calculate_heat_pump_costs()\n\u001b[32m--> \u001b[39m\u001b[32m436\u001b[39m \u001b[38;5;28;43mself\u001b[39;49m\u001b[43m.\u001b[49m\u001b[43mcalculate_natural_gas_comparison\u001b[49m\u001b[43m(\u001b[49m\u001b[43m)\u001b[49m\n\u001b[32m    437\u001b[39m \u001b[38;5;28mself\u001b[39m.calculate_cash_flow()\n\u001b[32m    438\u001b[39m \u001b[38;5;28;01mif\u001b[39;00m \u001b[38;5;28mself\u001b[39m.write_output_file: \u001b[38;5;28mself\u001b[39m.write_output(filename)\n",
      "\u001b[36mFile \u001b[39m\u001b[32m~\\Documents\\heat_pump_model-main\\heat_pump_model-main\\non-component model\\heat_pump_model.py:311\u001b[39m, in \u001b[36mheat_pump.calculate_natural_gas_comparison\u001b[39m\u001b[34m(self)\u001b[39m\n\u001b[32m    309\u001b[39m \u001b[38;5;28;01mdef\u001b[39;00m\u001b[38;5;250m \u001b[39m\u001b[34mcalculate_natural_gas_comparison\u001b[39m(\u001b[38;5;28mself\u001b[39m):\n\u001b[32m    310\u001b[39m     \u001b[38;5;28;01mif\u001b[39;00m \u001b[38;5;28mself\u001b[39m.print_results: \u001b[38;5;28mprint\u001b[39m(\u001b[33m'\u001b[39m\u001b[33mCalculate Natural Gas Comparison\u001b[39m\u001b[33m'\u001b[39m)\n\u001b[32m--> \u001b[39m\u001b[32m311\u001b[39m     \u001b[38;5;28;01mif\u001b[39;00m \u001b[38;5;28;43mself\u001b[39;49m\u001b[43m.\u001b[49m\u001b[43mexisting_gas\u001b[49m == \u001b[38;5;28;01mTrue\u001b[39;00m:\n\u001b[32m    312\u001b[39m         \u001b[38;5;28mself\u001b[39m.gas_capital_cost = Q_(\u001b[33m'\u001b[39m\u001b[33m0.0 USD\u001b[39m\u001b[33m'\u001b[39m)\n\u001b[32m    313\u001b[39m     \u001b[38;5;28;01melse\u001b[39;00m:\n",
      "\u001b[31mAttributeError\u001b[39m: 'heat_pump' object has no attribute 'existing_gas'"
     ]
    }
   ],
   "source": [
    "hp_test = heat_pump()\n",
    "hp_test.construct_yaml_input_quantities('heatpump_model_inputs.yml')\n",
    "hp_test.hot_temperature_desired = Q_(np.array([90]*8760), 'degC')\n",
    "hp_test.hot_temperature_minimum = Q_(np.array([80]*8760), 'degC')\n",
    "hp_test.cold_temperature_available = Q_(np.array([60]*8760), 'degC')\n",
    "hp_test.gas_price_MMBTU = Q_(np.array([4.5] * 8760), 'USD / MMBtu')\n",
    "hp_test.carnot_efficiency_factor = Q_('0.50')\n",
    "hp_test.carnot_efficiency_factor_flag = False\n",
    "hp_test.refrigerant = 'R234a'\n",
    "\n",
    "hp_test.run_all('test')"
   ]
  },
  {
   "cell_type": "code",
   "execution_count": null,
   "metadata": {},
   "outputs": [],
   "source": []
  }
 ],
 "metadata": {
  "kernelspec": {
   "display_name": "Python 3 (ipykernel)",
   "language": "python",
   "name": "python3"
  },
  "language_info": {
   "codemirror_mode": {
    "name": "ipython",
    "version": 3
   },
   "file_extension": ".py",
   "mimetype": "text/x-python",
   "name": "python",
   "nbconvert_exporter": "python",
   "pygments_lexer": "ipython3",
   "version": "3.13.3"
  },
  "vscode": {
   "interpreter": {
    "hash": "c6e4e9f98eb68ad3b7c296f83d20e6de614cb42e90992a65aa266555a3137d0d"
   }
  }
 },
 "nbformat": 4,
 "nbformat_minor": 4
}
