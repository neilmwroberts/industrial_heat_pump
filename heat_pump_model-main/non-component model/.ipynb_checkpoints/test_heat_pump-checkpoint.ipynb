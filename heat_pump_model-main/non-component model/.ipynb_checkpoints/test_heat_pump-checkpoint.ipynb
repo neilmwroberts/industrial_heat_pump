{
 "cells": [
  {
   "cell_type": "code",
   "execution_count": 1,
   "metadata": {},
   "outputs": [
    {
     "ename": "ModuleNotFoundError",
     "evalue": "No module named 'utilities'",
     "output_type": "error",
     "traceback": [
      "\u001b[31m---------------------------------------------------------------------------\u001b[39m",
      "\u001b[31mModuleNotFoundError\u001b[39m                       Traceback (most recent call last)",
      "\u001b[36mCell\u001b[39m\u001b[36m \u001b[39m\u001b[32mIn[1]\u001b[39m\u001b[32m, line 1\u001b[39m\n\u001b[32m----> \u001b[39m\u001b[32m1\u001b[39m \u001b[38;5;28;01mfrom\u001b[39;00m\u001b[38;5;250m \u001b[39m\u001b[34;01mheat_pump_model\u001b[39;00m\u001b[38;5;250m \u001b[39m\u001b[38;5;28;01mimport\u001b[39;00m heat_pump\n\u001b[32m      2\u001b[39m \u001b[38;5;28;01mfrom\u001b[39;00m\u001b[38;5;250m \u001b[39m\u001b[34;01mlibraries\u001b[39;00m\u001b[38;5;250m \u001b[39m\u001b[38;5;28;01mimport\u001b[39;00m * \n\u001b[32m      3\u001b[39m \u001b[38;5;28;01mfrom\u001b[39;00m\u001b[38;5;250m \u001b[39m\u001b[34;01mrefrigerant_properties\u001b[39;00m\u001b[38;5;250m \u001b[39m\u001b[38;5;28;01mimport\u001b[39;00m *\n",
      "\u001b[36mFile \u001b[39m\u001b[32m~\\Documents\\heat_pump_model-main\\heat_pump_model-main\\non-component model\\heat_pump_model.py:18\u001b[39m\n\u001b[32m     16\u001b[39m \u001b[38;5;28;01mfrom\u001b[39;00m\u001b[38;5;250m \u001b[39m\u001b[34;01mlibraries\u001b[39;00m\u001b[38;5;250m \u001b[39m\u001b[38;5;28;01mimport\u001b[39;00m *\n\u001b[32m     17\u001b[39m \u001b[38;5;28;01mfrom\u001b[39;00m\u001b[38;5;250m \u001b[39m\u001b[34;01mrefrigerant_properties\u001b[39;00m\u001b[38;5;250m \u001b[39m\u001b[38;5;28;01mimport\u001b[39;00m*\n\u001b[32m---> \u001b[39m\u001b[32m18\u001b[39m \u001b[38;5;28;01mfrom\u001b[39;00m\u001b[38;5;250m \u001b[39m\u001b[34;01mutilities\u001b[39;00m\u001b[34;01m.\u001b[39;00m\u001b[34;01munit_defs\u001b[39;00m\u001b[38;5;250m \u001b[39m\u001b[38;5;28;01mimport\u001b[39;00m ureg, Q_\n\u001b[32m     19\u001b[39m \u001b[38;5;66;03m# from uncertainties import ufloat as uf\u001b[39;00m\n\u001b[32m     20\u001b[39m \u001b[38;5;66;03m# from uncertainties import unumpy as unp\u001b[39;00m\n\u001b[32m     21\u001b[39m \n\u001b[32m   (...)\u001b[39m\u001b[32m     25\u001b[39m \u001b[38;5;66;03m##### Initialization #####\u001b[39;00m\n\u001b[32m     26\u001b[39m \u001b[38;5;66;03m## This class calls the heat pump model and initializes it to dummy values.\u001b[39;00m\n\u001b[32m     27\u001b[39m \u001b[38;5;28;01mclass\u001b[39;00m\u001b[38;5;250m \u001b[39m\u001b[34;01mheat_pump\u001b[39;00m:\n\u001b[32m     28\u001b[39m     \u001b[38;5;66;03m##### Model Variables #####\u001b[39;00m\n",
      "\u001b[31mModuleNotFoundError\u001b[39m: No module named 'utilities'"
     ]
    }
   ],
   "source": [
    "from heat_pump_model import heat_pump\n",
    "from libraries import * \n",
    "from refrigerant_properties import *\n",
    "import numpy as np\n",
    "from unit_defs import Q_"
   ]
  },
  {
   "cell_type": "code",
   "execution_count": null,
   "metadata": {},
   "outputs": [],
   "source": []
  },
  {
   "cell_type": "code",
   "execution_count": null,
   "metadata": {},
   "outputs": [],
   "source": [
    "hp_test = heat_pump()\n",
    "hp_test.construct_yaml_input_quantities('heatpump_model_inputs.yml')\n",
    "hp_test.hot_temperature_desired = Q_(np.array([90]*8760), 'degC')\n",
    "hp_test.hot_temperature_minimum = Q_(np.array([80]*8760), 'degC')\n",
    "hp_test.cold_temperature_available = Q_(np.array([60]*8760), 'degC')\n",
    "hp_test.gas_price_MMBTU = Q_(np.array([4.5] * 8760), 'USD / MMBtu')\n",
    "hp_test.carnot_efficiency_factor = Q_('0.50')\n",
    "hp_test.carnot_efficiency_factor_flag = False\n",
    "hp_test.refrigerant = 'R234a'\n",
    "\n",
    "hp_test.run_all('test')"
   ]
  },
  {
   "cell_type": "code",
   "execution_count": null,
   "metadata": {},
   "outputs": [],
   "source": []
  }
 ],
 "metadata": {
  "kernelspec": {
   "display_name": "Python 3 (ipykernel)",
   "language": "python",
   "name": "python3"
  },
  "language_info": {
   "codemirror_mode": {
    "name": "ipython",
    "version": 3
   },
   "file_extension": ".py",
   "mimetype": "text/x-python",
   "name": "python",
   "nbconvert_exporter": "python",
   "pygments_lexer": "ipython3",
   "version": "3.13.3"
  },
  "vscode": {
   "interpreter": {
    "hash": "c6e4e9f98eb68ad3b7c296f83d20e6de614cb42e90992a65aa266555a3137d0d"
   }
  }
 },
 "nbformat": 4,
 "nbformat_minor": 4
}
