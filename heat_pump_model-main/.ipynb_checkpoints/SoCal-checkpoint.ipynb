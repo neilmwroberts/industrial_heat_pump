{
 "cells": [
  {
   "cell_type": "code",
   "execution_count": 1,
   "metadata": {},
   "outputs": [],
   "source": [
    "from heat_pump_model import *\n",
    "from libraries import * \n",
    "from refrigerant_properties import *\n",
    "import numpy as np\n",
    "from utilities.unit_defs import Q_"
   ]
  },
  {
   "cell_type": "code",
   "execution_count": 2,
   "metadata": {},
   "outputs": [
    {
     "name": "stdout",
     "output_type": "stream",
     "text": [
      "8760\n",
      "[0.044533255 0.0441787425 0.045344735000000004 ... 0.04449603 0.04605293 0.04473134] USD / kilowatt_hour\n"
     ]
    }
   ],
   "source": [
    "#process raw wholesale energy prices into useable format\n",
    "\n",
    "import pandas as pd\n",
    "\n",
    "# List your 4 CSV file paths (adjust to match actual filenames)\n",
    "csv_paths = [\n",
    "    r\"utilities\\caiso_2024\\caiso_lmp_rt_15min_zones_2024Q1.csv\",\n",
    "    r\"utilities\\caiso_2024\\caiso_lmp_rt_15min_zones_2024Q2.csv\",\n",
    "    r\"utilities\\caiso_2024\\caiso_lmp_rt_15min_zones_2024Q3.csv\",\n",
    "    r\"utilities\\caiso_2024\\caiso_lmp_rt_15min_zones_2024Q4.csv\"\n",
    "]\n",
    "\n",
    "# Empty list to collect data\n",
    "dfs = []\n",
    "for path in csv_paths:\n",
    "    df = pd.read_csv(path, skiprows=3)\n",
    "\n",
    "    # Use local time column instead of UTC\n",
    "    df['Timestamp'] = pd.to_datetime(df['Local Timestamp Pacific Time (Interval Beginning)'])\n",
    "    df = df.set_index('Timestamp')\n",
    "\n",
    "    # Keep only SP-15 LMP\n",
    "    dfs.append(df[['SP-15 LMP']])\n",
    "\n",
    "    \n",
    "# Concatenate all quarters\n",
    "df_all = pd.concat(dfs)\n",
    "\n",
    "# Resample to hourly mean (from 15-min data)\n",
    "sp15_hourly = df_all.resample('h').mean()\n",
    "#trim the leap years\n",
    "if(len(sp15_hourly!=8760)):\n",
    "   sp15_hourly = sp15_hourly[~((sp15_hourly.index.month == 2) & (sp15_hourly.index.day == 29))]\n",
    "# Sanity check\n",
    "assert len(sp15_hourly) == 8760, \"Did not get exactly 8760 hours\"\n",
    "sp15_hourly_filled = sp15_hourly['SP-15 LMP'].ffill()\n",
    "\n",
    "print(len(sp15_hourly_filled))\n",
    "\n",
    "rate_values = Q_(sp15_hourly_filled.values, 'USD / MWh')\n",
    "rate_kwh = rate_values.to('USD / kWh')\n",
    "print(rate_kwh)"
   ]
  },
  {
   "cell_type": "code",
   "execution_count": 6,
   "metadata": {},
   "outputs": [
    {
     "name": "stdout",
     "output_type": "stream",
     "text": [
      "Rate units: USD / hour / kilowatt\n",
      "Power units: kilowatt\n",
      "Calculate COP Called\n",
      "Average Theoretical COP:  5.687857142857141 dimensionless\n",
      "Average Estimated COP:  2.8439285714285707 dimensionless\n",
      "Calculate Energy and Mass Called\n",
      "Hot Mass Flow Average: 99.0 kg/s\n",
      "Cold Average Outlet Temperature: 56.00 °C\n",
      "Average Power Draw of Heat Pump: 1408.160 kW\n",
      "Maximum Power Draw of Heat Pump: 1408.160 kW\n",
      "Annual Electricity in: 12,335,479.8 kWh\n",
      "I'm alive\n",
      "Calculate Heat Pump Costs\n",
      "Capital Cost: 1,201,411.76 $\n",
      "Capacity Factor: 1.000\n",
      "One Year Fixed O&M Costs: 161.24 $·MMBtu/h/kW/yr\n",
      "One Year Variable O&M Costs: 5,985.10 $/yr\n",
      "One Year Energy Costs: 415,688.77 $/yr\n",
      "Demand Charges:  [28.16 28.16 28.16 ... 28.16 28.16 28.16] $\n",
      "One Year Operating Costs: 1,600.05 $·MMBtu/h/kW/yr\n",
      "Lifetime LCOH: 4.42 $/MMBtu\n",
      "Writing all output to a file\n"
     ]
    }
   ],
   "source": [
    "hp_test = heat_pump()\n",
    "hp_test.construct_yaml_input_quantities('heat_pump_model_inputs.yml')\n",
    "hp_test.hot_temperature_desired = Q_(np.array([120]*8760), 'degC')\n",
    "hp_test.hot_temperature_minimum = Q_(np.array([80]*8760), 'degC')\n",
    "hp_test.cold_temperature_available = Q_(np.array([60]*8760), 'degC')\n",
    "hp_test.carnot_efficiency_factor = Q_('0.55')\n",
    "hp_test.carnot_efficiency_factor_flag = False\n",
    "hp_test.refrigerant = 'R234a'\n",
    "#variable electicity rates\n",
    "#hp_test.hourly_utility_rate = rate_kwh\n",
    "\n",
    "print(\"Rate units:\", hp_test.hourly_utility_rate.units)  # → USD / kilowatt_hour\n",
    "print(\"Power units:\", hp_test.power_in.units)            # → kilowatt\n",
    "hp_test.run_all('hp_test')\n"
   ]
  },
  {
   "cell_type": "code",
   "execution_count": 4,
   "metadata": {},
   "outputs": [
    {
     "name": "stdout",
     "output_type": "stream",
     "text": [
      "Power shape: (8760,)\n",
      "Rate shape: (8760,)\n",
      "Average rate ($/kWh): 0.03173449500604071\n",
      "Total energy (kWh): 12335479.778599393\n",
      "Expected cost: $ 391460.2214310786\n",
      "Model cost:    560439.3964803852 USD / year\n"
     ]
    }
   ],
   "source": [
    "# Check internal consistency\n",
    "print(\"Power shape:\", hp_test.power_in.shape)\n",
    "print(\"Rate shape:\", hp_test.hourly_utility_rate.shape)\n",
    "\n",
    "# Average rate and expected cost\n",
    "avg_rate = hp_test.hourly_utility_rate.magnitude.mean()\n",
    "E_total = hp_test.power_in.magnitude.sum()  # already in kWh\n",
    "\n",
    "print(\"Average rate ($/kWh):\", avg_rate)\n",
    "print(\"Total energy (kWh):\", E_total)\n",
    "print(\"Expected cost: $\", avg_rate * E_total)\n",
    "print(\"Model cost:   \", hp_test.year_one_energy_costs)\n"
   ]
  },
  {
   "cell_type": "code",
   "execution_count": 7,
   "metadata": {},
   "outputs": [
    {
     "ename": "AttributeError",
     "evalue": "'heat_pump' object has no attribute 'demand_charge'",
     "output_type": "error",
     "traceback": [
      "\u001b[31m---------------------------------------------------------------------------\u001b[39m",
      "\u001b[31mAttributeError\u001b[39m                            Traceback (most recent call last)",
      "\u001b[36mCell\u001b[39m\u001b[36m \u001b[39m\u001b[32mIn[7]\u001b[39m\u001b[32m, line 1\u001b[39m\n\u001b[32m----> \u001b[39m\u001b[32m1\u001b[39m \u001b[38;5;28mprint\u001b[39m(\u001b[33m\"\u001b[39m\u001b[33mDemand charge:\u001b[39m\u001b[33m\"\u001b[39m, \u001b[43mhp_test\u001b[49m\u001b[43m.\u001b[49m\u001b[43mdemand_charge\u001b[49m)\n\u001b[32m      2\u001b[39m \u001b[38;5;28mprint\u001b[39m(\u001b[33m\"\u001b[39m\u001b[33mPeak kW:\u001b[39m\u001b[33m\"\u001b[39m, hp_test.power_in.to(\u001b[33m'\u001b[39m\u001b[33mkW\u001b[39m\u001b[33m'\u001b[39m).magnitude.max())\n",
      "\u001b[31mAttributeError\u001b[39m: 'heat_pump' object has no attribute 'demand_charge'"
     ]
    }
   ],
   "source": [
    "print(\"Demand charge:\", hp_test.demand_charge)\n",
    "print(\"Peak kW:\", hp_test.power_in.to('kW').magnitude.max())"
   ]
  },
  {
   "cell_type": "code",
   "execution_count": 5,
   "metadata": {},
   "outputs": [
    {
     "name": "stdout",
     "output_type": "stream",
     "text": [
      "[1408.1597920775557 1408.1597920775557 1408.1597920775557 ... 1408.1597920775557 1408.1597920775557 1408.1597920775557] kilowatt\n",
      "[1408.15979208 1408.15979208 1408.15979208 1408.15979208 1408.15979208]\n",
      "kilowatt\n",
      "12334080\n",
      "min 1408.1597920775557 kilowatt\n",
      "max 1408.1597920775557 kilowatt\n"
     ]
    }
   ],
   "source": [
    "print(hp_test.power_in)                   # full Quantity array (with units)\n",
    "print(hp_test.power_in.magnitude[:5])     # first 5 values (plain numbers)\n",
    "print(hp_test.power_in.units)             # the units (should be kilowatt)\n",
    "\n",
    "print(1408*8760)\n",
    "\n",
    "print('min',np.min(hp_test.power_in))\n",
    "print('max',np.max(hp_test.power_in))"
   ]
  }
 ],
 "metadata": {
  "kernelspec": {
   "display_name": "Python 3 (ipykernel)",
   "language": "python",
   "name": "python3"
  },
  "language_info": {
   "codemirror_mode": {
    "name": "ipython",
    "version": 3
   },
   "file_extension": ".py",
   "mimetype": "text/x-python",
   "name": "python",
   "nbconvert_exporter": "python",
   "pygments_lexer": "ipython3",
   "version": "3.13.3"
  },
  "vscode": {
   "interpreter": {
    "hash": "c6e4e9f98eb68ad3b7c296f83d20e6de614cb42e90992a65aa266555a3137d0d"
   }
  }
 },
 "nbformat": 4,
 "nbformat_minor": 4
}
