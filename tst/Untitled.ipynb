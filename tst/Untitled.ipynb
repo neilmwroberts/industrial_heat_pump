{
 "cells": [
  {
   "cell_type": "code",
   "execution_count": 1,
   "id": "7b3e3b59-6679-46c6-b371-2f5a5a48c687",
   "metadata": {},
   "outputs": [
    {
     "name": "stdout",
     "output_type": "stream",
     "text": [
      "heat pumps rule\n"
     ]
    }
   ],
   "source": [
    "print(\"heat pumps rule\")"
   ]
  },
  {
   "cell_type": "code",
   "execution_count": null,
   "id": "7aaf6eb9-0500-45f9-955e-e205271843d7",
   "metadata": {},
   "outputs": [],
   "source": []
  }
 ],
 "metadata": {
  "kernelspec": {
   "display_name": "Python 3 (ipykernel)",
   "language": "python",
   "name": "python3"
  },
  "language_info": {
   "codemirror_mode": {
    "name": "ipython",
    "version": 3
   },
   "file_extension": ".py",
   "mimetype": "text/x-python",
   "name": "python",
   "nbconvert_exporter": "python",
   "pygments_lexer": "ipython3",
   "version": "3.13.3"
  }
 },
 "nbformat": 4,
 "nbformat_minor": 5
}
